{
 "cells": [
  {
   "cell_type": "markdown",
   "metadata": {},
   "source": [
    "# Step 1: Reading the CSV File\n",
    "First, read the CSV file containing the physician's notes."
   ]
  },
  {
   "cell_type": "code",
   "execution_count": 1,
   "metadata": {},
   "outputs": [],
   "source": [
    "import pandas as pd\n",
    "\n",
    "df = pd.read_csv('patient_notes.csv')\n",
    "\n",
    "# notes are in a column named 'pn_history'\n",
    "notes = df['pn_history']"
   ]
  },
  {
   "cell_type": "markdown",
   "metadata": {},
   "source": []
  },
  {
   "cell_type": "markdown",
   "metadata": {},
   "source": [
    "# Step 2: Case Conversion\n",
    "Convert all text to lower case to ensure uniformity."
   ]
  },
  {
   "cell_type": "code",
   "execution_count": 2,
   "metadata": {},
   "outputs": [],
   "source": [
    "notes = notes.str.lower()"
   ]
  },
  {
   "cell_type": "markdown",
   "metadata": {},
   "source": [
    "# Step 3: Handling Contractions\n",
    "Expand contractions using contractions library:"
   ]
  },
  {
   "cell_type": "code",
   "execution_count": 3,
   "metadata": {},
   "outputs": [],
   "source": [
    "import contractions\n",
    "\n",
    "def expand_contractions(text):\n",
    "    return contractions.fix(text)\n",
    "\n",
    "notes = notes.apply(expand_contractions)"
   ]
  },
  {
   "cell_type": "markdown",
   "metadata": {},
   "source": [
    "# Step 4: Standardizing Formats\n",
    "Standardize formats for dates, numbers, and currencies using regular expressions and Python's datetime library for dates."
   ]
  },
  {
   "cell_type": "code",
   "execution_count": 4,
   "metadata": {},
   "outputs": [],
   "source": [
    "import re\n",
    "from dateutil.parser import parse\n",
    "\n",
    "# Define a function to standardize date formats\n",
    "def standardize_dates(text):\n",
    "    try:\n",
    "        # Try to parse and reformat dates found in the text\n",
    "        return parse(text, fuzzy=True).strftime('%Y-%m-%d')\n",
    "    except ValueError:\n",
    "        # If parsing fails, return the original text\n",
    "        return text\n",
    "\n",
    "# Apply the function to standardize dates in each note\n",
    "notes = notes.apply(lambda x: re.sub(r'\\b\\d{1,2}[/-]\\d{1,2}[/-]\\d{2,4}\\b', lambda match: standardize_dates(match.group()), x))\n",
    "\n",
    "# Define a function to standardize age\n",
    "def standardize_age(text):\n",
    "    return re.sub(r'(\\d{1,2})\\s?(?:yo|y\\.o.|y\\.o)', lambda match: f\"{match.group(1)} years old\", text)\n",
    "\n",
    "notes = notes.apply(standardize_age)\n",
    "\n",
    "\n",
    "# Define a function to standardize numbers (remove commas from large numbers)\n",
    "def standardize_numbers(text):\n",
    "    return re.sub(r'(\\d{1,3}),(\\d{3}\\b)', r'\\1\\2', text)\n",
    "\n",
    "# Apply the function to standardize numbers in each note\n",
    "notes = notes.apply(standardize_numbers)\n",
    "\n",
    "# Define a function to standardize currency symbols to their text equivalents\n",
    "def standardize_currencies(text):\n",
    "    # Replace the US Dollar symbol with 'USD'\n",
    "    text = re.sub(r'\\$', 'USD ', text)\n",
    "    # Replace the British Pound symbol with 'GBP'\n",
    "    text = re.sub(r'£', 'GBP ', text)\n",
    "    # Replace the Euro symbol with 'EUR'\n",
    "    text = re.sub(r'€', 'EUR ', text)\n",
    "    return text\n",
    "\n",
    "# Apply the function to standardize currencies in each note\n",
    "notes = notes.apply(standardize_currencies)"
   ]
  },
  {
   "cell_type": "markdown",
   "metadata": {},
   "source": [
    "# Step 5: Removing Punctuation and Special Characters\n",
    "Replace non-alphanumeric characters with a space to prevent merging of words, negleting the formated dates"
   ]
  },
  {
   "cell_type": "code",
   "execution_count": 5,
   "metadata": {},
   "outputs": [],
   "source": [
    "# Updated function to remove all punctuation and special characters\n",
    "def remove_all_punctuation(text):\n",
    "    # Regular expression that removes all non-alphanumeric characters (except spaces)\n",
    "    return re.sub(r'[^\\w\\s]', ' ', text)\n",
    "\n",
    "# Apply the updated function to remove all punctuation\n",
    "notes = notes.apply(remove_all_punctuation)\n"
   ]
  },
  {
   "cell_type": "markdown",
   "metadata": {},
   "source": [
    "# Step 6: Stemming and Lemmatization\n",
    "After addressing the specific format standardizations, consider reducing words to their root forms"
   ]
  },
  {
   "cell_type": "code",
   "execution_count": 6,
   "metadata": {},
   "outputs": [
    {
     "name": "stderr",
     "output_type": "stream",
     "text": [
      "[nltk_data] Downloading package punkt to\n",
      "[nltk_data]     C:\\Users\\52347\\AppData\\Roaming\\nltk_data...\n",
      "[nltk_data]   Package punkt is already up-to-date!\n",
      "[nltk_data] Downloading package wordnet to\n",
      "[nltk_data]     C:\\Users\\52347\\AppData\\Roaming\\nltk_data...\n",
      "[nltk_data]   Package wordnet is already up-to-date!\n"
     ]
    }
   ],
   "source": [
    "import nltk\n",
    "from nltk.stem import PorterStemmer, WordNetLemmatizer\n",
    "from nltk.tokenize import word_tokenize\n",
    "\n",
    "nltk.download('punkt')\n",
    "nltk.download('wordnet')\n",
    "\n",
    "stemmer = PorterStemmer()\n",
    "lemmatizer = WordNetLemmatizer()\n",
    "\n",
    "def stem_text(text):\n",
    "    return ' '.join([stemmer.stem(word) for word in word_tokenize(text)])\n",
    "\n",
    "def lemmatize_text(text):\n",
    "    return ' '.join([lemmatizer.lemmatize(word) for word in word_tokenize(text)])\n",
    "\n",
    "# Choose either stemming or lemmatization based on your analysis needs\n",
    "notes = notes.apply(stem_text)\n",
    "# notes = notes.apply(lemmatize_text)\n"
   ]
  },
  {
   "cell_type": "markdown",
   "metadata": {},
   "source": [
    "# Step 7: Apply a Stop Word List\n",
    "Remove common words that add little semantic value to reduce noise and focus on the meaningful content in the text."
   ]
  },
  {
   "cell_type": "code",
   "execution_count": 7,
   "metadata": {},
   "outputs": [
    {
     "name": "stderr",
     "output_type": "stream",
     "text": [
      "[nltk_data] Downloading package stopwords to\n",
      "[nltk_data]     C:\\Users\\52347\\AppData\\Roaming\\nltk_data...\n",
      "[nltk_data]   Package stopwords is already up-to-date!\n"
     ]
    }
   ],
   "source": [
    "from nltk.corpus import stopwords\n",
    "\n",
    "nltk.download('stopwords')\n",
    "stop_words = set(stopwords.words('english'))\n",
    "\n",
    "def remove_stop_words(text):\n",
    "    return ' '.join([word for word in word_tokenize(text) if word not in stop_words])\n",
    "\n",
    "notes = notes.apply(remove_stop_words)\n"
   ]
  },
  {
   "cell_type": "markdown",
   "metadata": {},
   "source": [
    "# Step 8: Correcting Typos and Spelling\n",
    "For correcting typos and spelling, use Speller, utilizing multithreading and put this step at end to reduce processing time."
   ]
  },
  {
   "cell_type": "code",
   "execution_count": 8,
   "metadata": {},
   "outputs": [],
   "source": [
    "from autocorrect import Speller\n",
    "from concurrent.futures import ThreadPoolExecutor\n",
    "\n",
    "spell = Speller(lang='en', fast=True)\n",
    "\n",
    "def correct_spelling(text):\n",
    "    corrected_text = spell(text)\n",
    "    return corrected_text\n",
    "\n",
    "# Function to apply spelling correction using multithreading\n",
    "def apply_spell_correction_with_multithreading(series, num_workers=16):\n",
    "    with ThreadPoolExecutor(max_workers=num_workers) as executor:\n",
    "        # Distribute the workload across multiple threads and collect the results\n",
    "        corrected_texts = list(executor.map(correct_spelling, series))\n",
    "    return corrected_texts\n",
    "\n",
    "# Apply the multithreaded spelling correction\n",
    "notes = apply_spell_correction_with_multithreading(notes)"
   ]
  },
  {
   "cell_type": "markdown",
   "metadata": {},
   "source": [
    "# Step 9: Update DataFrame\n",
    "Update your DataFrame with the processed notes."
   ]
  },
  {
   "cell_type": "code",
   "execution_count": 9,
   "metadata": {},
   "outputs": [],
   "source": [
    "df['processed_pn_history'] = notes"
   ]
  },
  {
   "cell_type": "markdown",
   "metadata": {},
   "source": [
    "# Step 10: Save Processed Data\n",
    "Save the processed data for further analysis or use in subsequent machine learning models."
   ]
  },
  {
   "cell_type": "code",
   "execution_count": 10,
   "metadata": {},
   "outputs": [],
   "source": [
    "df.to_csv('processed_patient_notes.csv', index=False)\n"
   ]
  }
 ],
 "metadata": {
  "kernelspec": {
   "display_name": "Python 3",
   "language": "python",
   "name": "python3"
  },
  "language_info": {
   "codemirror_mode": {
    "name": "ipython",
    "version": 3
   },
   "file_extension": ".py",
   "mimetype": "text/x-python",
   "name": "python",
   "nbconvert_exporter": "python",
   "pygments_lexer": "ipython3",
   "version": "3.11.4"
  }
 },
 "nbformat": 4,
 "nbformat_minor": 2
}
