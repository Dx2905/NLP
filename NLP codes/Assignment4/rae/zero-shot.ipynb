{
 "cells": [
  {
   "cell_type": "code",
   "execution_count": 1,
   "id": "f05f332e-cec7-4f1f-bb31-4abe21292102",
   "metadata": {},
   "outputs": [],
   "source": [
    "import matplotlib.pyplot as plt\n",
    "import seaborn as sns\n",
    "import pandas as pd\n",
    "import numpy as np\n",
    "from datasets import load_dataset\n",
    "from tqdm import tqdm\n",
    "import torch\n",
    "from transformers import pipeline\n",
    "from transformers.pipelines.pt_utils import KeyDataset\n",
    "from transformers import AutoTokenizer, AutoModelForSequenceClassification\n",
    "from transformers import pipeline, BartTokenizer, BartForConditionalGeneration\n",
    "from transformers import MT5ForConditionalGeneration, MT5Tokenizer\n",
    "from sklearn.metrics import accuracy_score, classification_report, confusion_matrix\n",
    "import time\n",
    "import warnings\n",
    "warnings.filterwarnings(\"ignore\")"
   ]
  },
  {
   "cell_type": "code",
   "execution_count": 2,
   "id": "143a3fdc-9788-4e26-a37c-c9ef2ed605d9",
   "metadata": {},
   "outputs": [],
   "source": [
    "device = torch.device('cuda' if torch.cuda.is_available() else 'cpu')\n",
    "seed = 9"
   ]
  },
  {
   "cell_type": "code",
   "execution_count": 3,
   "id": "0f2b5860-79f6-4422-b34d-673a49a7f081",
   "metadata": {},
   "outputs": [],
   "source": [
    "dataset = load_dataset('yelp_review_full', split='train').shuffle(seed=seed).select(range(100))"
   ]
  },
  {
   "cell_type": "code",
   "execution_count": 4,
   "id": "23ea84ab-d7e2-4f91-94f8-210350250623",
   "metadata": {},
   "outputs": [],
   "source": [
    "zero_bart = pipeline(task=\"zero-shot-classification\", model = \"facebook/bart-large-mnli\", device=device)"
   ]
  },
  {
   "cell_type": "code",
   "execution_count": 5,
   "id": "fb302b06-bd7a-473a-b999-5d96b7f63b2c",
   "metadata": {
    "collapsed": true,
    "jupyter": {
     "outputs_hidden": true
    },
    "tags": []
   },
   "outputs": [
    {
     "data": {
      "text/plain": [
       "{'Restaurants': 1,\n",
       " 'Bars': 2,\n",
       " 'Coffee Shops': 3,\n",
       " 'Hotels': 4,\n",
       " 'Salons/Barbershops': 5,\n",
       " 'Auto Repair': 6,\n",
       " 'Home Services': 7,\n",
       " 'Medical Services': 8,\n",
       " 'Entertainment': 9,\n",
       " 'Pet Services': 10,\n",
       " 'Financial Services': 11,\n",
       " 'Travel & Tourism': 12,\n",
       " 'Education': 13,\n",
       " 'Real Estate': 14,\n",
       " 'Fitness': 15,\n",
       " 'Landscaping & Gardening Services': 16,\n",
       " 'Legal Services': 17,\n",
       " 'Photography Services': 18,\n",
       " 'Childcare Services': 19}"
      ]
     },
     "execution_count": 5,
     "metadata": {},
     "output_type": "execute_result"
    }
   ],
   "source": [
    "candidate_tags = [\"Restaurants\", \"Bars\", \"Coffee Shops\", \"Hotels\", \"Salons/Barbershops\", \"Auto Repair\", \"Home Services\", \"Medical Services\", \"Entertainment\", \"Pet Services\", \"Financial Services\", \"Travel & Tourism\", \"Education\", \"Real Estate\", \"Fitness\", \"Landscaping & Gardening Services\", \"Legal Services\", \"Photography Services\", \"Childcare Services\", \"Computer & Technology Services\"]\n",
    "candidate_labels = range(1, 20)\n",
    "candidate_dict = dict(zip(candidate_tags, candidate_labels))\n",
    "candidate_dict"
   ]
  },
  {
   "cell_type": "code",
   "execution_count": 6,
   "id": "14d918c1-1643-4934-bb81-4e544b6f7ebf",
   "metadata": {
    "tags": []
   },
   "outputs": [
    {
     "name": "stdout",
     "output_type": "stream",
     "text": [
      "CPU times: user 2.65 s, sys: 2.63 s, total: 5.27 s\n",
      "Wall time: 5.27 s\n"
     ]
    }
   ],
   "source": [
    "%%time\n",
    "def zero_shot_classification(example, candidate_tags):\n",
    "    zeroshot = zero_bart(example['text'], candidate_tags)\n",
    "    return {'text': example['text'], 'zeroshot': zeroshot}\n",
    "\n",
    "# Apply zero-shot classification to the dataset\n",
    "zero_shot_bart = dataset.map(lambda example: zero_shot_classification(example, candidate_tags))"
   ]
  },
  {
   "cell_type": "code",
   "execution_count": 9,
   "id": "2c0ed16b-2bf4-417f-b987-e19f10219906",
   "metadata": {
    "collapsed": true,
    "jupyter": {
     "outputs_hidden": true
    },
    "tags": []
   },
   "outputs": [
    {
     "data": {
      "text/plain": [
       "['Restaurants',\n",
       " 'Entertainment',\n",
       " 'Entertainment',\n",
       " 'Bars',\n",
       " 'Auto Repair',\n",
       " 'Restaurants',\n",
       " 'Restaurants',\n",
       " 'Restaurants',\n",
       " 'Hotels',\n",
       " 'Restaurants',\n",
       " 'Restaurants',\n",
       " 'Travel & Tourism',\n",
       " 'Restaurants',\n",
       " 'Bars',\n",
       " 'Auto Repair',\n",
       " 'Restaurants',\n",
       " 'Restaurants',\n",
       " 'Entertainment',\n",
       " 'Entertainment',\n",
       " 'Bars',\n",
       " 'Restaurants',\n",
       " 'Bars',\n",
       " 'Restaurants',\n",
       " 'Restaurants',\n",
       " 'Bars',\n",
       " 'Bars',\n",
       " 'Restaurants',\n",
       " 'Restaurants',\n",
       " 'Entertainment',\n",
       " 'Travel & Tourism',\n",
       " 'Restaurants',\n",
       " 'Restaurants',\n",
       " 'Entertainment',\n",
       " 'Restaurants',\n",
       " 'Restaurants',\n",
       " 'Restaurants',\n",
       " 'Restaurants',\n",
       " 'Restaurants',\n",
       " 'Restaurants',\n",
       " 'Restaurants',\n",
       " 'Restaurants',\n",
       " 'Restaurants',\n",
       " 'Restaurants',\n",
       " 'Bars',\n",
       " 'Home Services',\n",
       " 'Restaurants',\n",
       " 'Restaurants',\n",
       " 'Entertainment',\n",
       " 'Entertainment',\n",
       " 'Restaurants',\n",
       " 'Restaurants',\n",
       " 'Restaurants',\n",
       " 'Restaurants',\n",
       " 'Home Services',\n",
       " 'Travel & Tourism',\n",
       " 'Restaurants',\n",
       " 'Coffee Shops',\n",
       " 'Restaurants',\n",
       " 'Restaurants',\n",
       " 'Bars',\n",
       " 'Restaurants',\n",
       " 'Entertainment',\n",
       " 'Entertainment',\n",
       " 'Entertainment',\n",
       " 'Restaurants',\n",
       " 'Travel & Tourism',\n",
       " 'Restaurants',\n",
       " 'Pet Services',\n",
       " 'Restaurants',\n",
       " 'Restaurants',\n",
       " 'Restaurants',\n",
       " 'Entertainment',\n",
       " 'Home Services',\n",
       " 'Restaurants',\n",
       " 'Restaurants',\n",
       " 'Restaurants',\n",
       " 'Travel & Tourism',\n",
       " 'Entertainment',\n",
       " 'Entertainment',\n",
       " 'Entertainment',\n",
       " 'Entertainment',\n",
       " 'Restaurants',\n",
       " 'Restaurants',\n",
       " 'Entertainment',\n",
       " 'Restaurants',\n",
       " 'Restaurants',\n",
       " 'Restaurants',\n",
       " 'Medical Services',\n",
       " 'Entertainment',\n",
       " 'Restaurants',\n",
       " 'Entertainment',\n",
       " 'Entertainment',\n",
       " 'Hotels',\n",
       " 'Restaurants',\n",
       " 'Restaurants',\n",
       " 'Restaurants',\n",
       " 'Education',\n",
       " 'Restaurants',\n",
       " 'Home Services',\n",
       " 'Coffee Shops']"
      ]
     },
     "execution_count": 9,
     "metadata": {},
     "output_type": "execute_result"
    }
   ],
   "source": [
    "l = []\n",
    "for _ in zero_shot_bart['zeroshot']:\n",
    "    l.append(_['labels'][0])\n",
    "l"
   ]
  },
  {
   "cell_type": "code",
   "execution_count": 10,
   "id": "629688ee-515f-43ca-a41f-80beafd6e9aa",
   "metadata": {
    "collapsed": true,
    "jupyter": {
     "outputs_hidden": true
    },
    "tags": []
   },
   "outputs": [
    {
     "data": {
      "text/plain": [
       "[1,\n",
       " 9,\n",
       " 9,\n",
       " 2,\n",
       " 6,\n",
       " 1,\n",
       " 1,\n",
       " 1,\n",
       " 4,\n",
       " 1,\n",
       " 1,\n",
       " 12,\n",
       " 1,\n",
       " 2,\n",
       " 6,\n",
       " 1,\n",
       " 1,\n",
       " 9,\n",
       " 9,\n",
       " 2,\n",
       " 1,\n",
       " 2,\n",
       " 1,\n",
       " 1,\n",
       " 2,\n",
       " 2,\n",
       " 1,\n",
       " 1,\n",
       " 9,\n",
       " 12,\n",
       " 1,\n",
       " 1,\n",
       " 9,\n",
       " 1,\n",
       " 1,\n",
       " 1,\n",
       " 1,\n",
       " 1,\n",
       " 1,\n",
       " 1,\n",
       " 1,\n",
       " 1,\n",
       " 1,\n",
       " 2,\n",
       " 7,\n",
       " 1,\n",
       " 1,\n",
       " 9,\n",
       " 9,\n",
       " 1,\n",
       " 1,\n",
       " 1,\n",
       " 1,\n",
       " 7,\n",
       " 12,\n",
       " 1,\n",
       " 3,\n",
       " 1,\n",
       " 1,\n",
       " 2,\n",
       " 1,\n",
       " 9,\n",
       " 9,\n",
       " 9,\n",
       " 1,\n",
       " 12,\n",
       " 1,\n",
       " 10,\n",
       " 1,\n",
       " 1,\n",
       " 1,\n",
       " 9,\n",
       " 7,\n",
       " 1,\n",
       " 1,\n",
       " 1,\n",
       " 12,\n",
       " 9,\n",
       " 9,\n",
       " 9,\n",
       " 9,\n",
       " 1,\n",
       " 1,\n",
       " 9,\n",
       " 1,\n",
       " 1,\n",
       " 1,\n",
       " 8,\n",
       " 9,\n",
       " 1,\n",
       " 9,\n",
       " 9,\n",
       " 4,\n",
       " 1,\n",
       " 1,\n",
       " 1,\n",
       " 13,\n",
       " 1,\n",
       " 7,\n",
       " 3]"
      ]
     },
     "execution_count": 10,
     "metadata": {},
     "output_type": "execute_result"
    }
   ],
   "source": [
    "zero_shot_bart_prediction = [candidate_dict[k] for k in l]\n",
    "zero_shot_bart_prediction"
   ]
  },
  {
   "cell_type": "code",
   "execution_count": null,
   "id": "3bd17680-6612-487c-b8b7-2905bafaa115",
   "metadata": {},
   "outputs": [],
   "source": []
  },
  {
   "cell_type": "code",
   "execution_count": null,
   "id": "3b229abd-613c-4e07-a969-741c4629480a",
   "metadata": {},
   "outputs": [],
   "source": []
  },
  {
   "cell_type": "code",
   "execution_count": null,
   "id": "c71386ee-cdff-468c-bc20-3f240c1df9bb",
   "metadata": {},
   "outputs": [],
   "source": []
  },
  {
   "cell_type": "code",
   "execution_count": null,
   "id": "2d40288d-72d8-4b21-a689-c27e03911dff",
   "metadata": {},
   "outputs": [],
   "source": []
  },
  {
   "cell_type": "code",
   "execution_count": null,
   "id": "2b600f0c-6435-4138-9e33-dfaa4e37f479",
   "metadata": {},
   "outputs": [],
   "source": []
  },
  {
   "cell_type": "code",
   "execution_count": null,
   "id": "bb18084e-d049-49c7-8b7f-fb2660824dee",
   "metadata": {},
   "outputs": [],
   "source": []
  },
  {
   "cell_type": "code",
   "execution_count": null,
   "id": "9df030fa-a8ed-45f0-aa15-d9ea38a53c3c",
   "metadata": {},
   "outputs": [],
   "source": []
  },
  {
   "cell_type": "code",
   "execution_count": null,
   "id": "6a341e9b-d03d-4b64-92f8-e1a52908c663",
   "metadata": {},
   "outputs": [],
   "source": []
  },
  {
   "cell_type": "code",
   "execution_count": null,
   "id": "09a794d7-acec-4464-b874-7f205482a136",
   "metadata": {},
   "outputs": [],
   "source": []
  },
  {
   "cell_type": "code",
   "execution_count": null,
   "id": "f641bb7a-d30f-4464-b8ff-835e7234dbc7",
   "metadata": {},
   "outputs": [],
   "source": []
  },
  {
   "cell_type": "code",
   "execution_count": null,
   "id": "0386e0e6-884c-4a85-86ea-70b9caa9bedb",
   "metadata": {},
   "outputs": [],
   "source": []
  },
  {
   "cell_type": "code",
   "execution_count": 11,
   "id": "8f9a0d85-1411-44d2-839f-a90735a881c6",
   "metadata": {},
   "outputs": [
    {
     "name": "stderr",
     "output_type": "stream",
     "text": [
      "You are using the default legacy behaviour of the <class 'transformers.models.t5.tokenization_t5.T5Tokenizer'>. This is expected, and simply means that the `legacy` (previous) behavior will be used so nothing changes for you. If you want to use the new behaviour, set `legacy=False`. This should only be set if you understand what it means, and thoroughly read the reason why this was added as explained in https://github.com/huggingface/transformers/pull/24565\n",
      "Special tokens have been added in the vocabulary, make sure the associated word embeddings are fine-tuned or trained.\n"
     ]
    },
    {
     "data": {
      "application/vnd.jupyter.widget-view+json": {
       "model_id": "21a94c06200349b88868d9b80c341198",
       "version_major": 2,
       "version_minor": 0
      },
      "text/plain": [
       "Map:   0%|          | 0/100 [00:00<?, ? examples/s]"
      ]
     },
     "metadata": {},
     "output_type": "display_data"
    },
    {
     "name": "stdout",
     "output_type": "stream",
     "text": [
      "CPU times: user 17.4 s, sys: 18.5 s, total: 35.9 s\n",
      "Wall time: 31.9 s\n"
     ]
    }
   ],
   "source": [
    "%%time\n",
    "from transformers import T5ForConditionalGeneration, T5Tokenizer\n",
    "# Load T5 model and tokenizer\n",
    "model_name = \"t5-large\"\n",
    "tokenizer = T5Tokenizer.from_pretrained(model_name)\n",
    "model = T5ForConditionalGeneration.from_pretrained(model_name).to(device)\n",
    "\n",
    "# Define candidate labels\n",
    "candidate_labels = [\"Restaurants\", \"Bars\", \"Coffee Shops\", \"Hotels\", \"Salons/Barbershops\", \"Auto Repair\", \"Home Services\",\n",
    "                    \"Medical Services\", \"Entertainment\", \"Pet Services\", \"Financial Services\", \"Travel & Tourism\",\n",
    "                    \"Education\", \"Real Estate\", \"Fitness\", \"Landscaping & Gardening Services\", \"Legal Services\",\n",
    "                    \"Photography Services\", \"Childcare Services\", \"Computer & Technology Services\"]\n",
    "\n",
    "# Define zero-shot classification function using the model directly\n",
    "def zero_shot_classification_2(example):\n",
    "    inputs = tokenizer(\"classify: \" + example['text'], padding=True, truncation=True, return_tensors=\"pt\", max_length=512).to(device)\n",
    "    dummy_decoder_input_ids = torch.zeros_like(inputs[\"input_ids\"]).to(device)\n",
    "    with torch.no_grad():\n",
    "        logits = model(input_ids=inputs[\"input_ids\"], decoder_input_ids=dummy_decoder_input_ids).logits\n",
    "    zeroshot = torch.sigmoid(logits).cpu().numpy()\n",
    "    return {'text': example['text'], 'zeroshot': zeroshot}\n",
    "\n",
    "# Apply zero-shot classification to the dataset\n",
    "zero_shot_t5 = dataset.map(zero_shot_classification_2)"
   ]
  },
  {
   "cell_type": "code",
   "execution_count": 12,
   "id": "e6a9939f-ab89-4fe4-ae86-94581ed73735",
   "metadata": {},
   "outputs": [
    {
     "data": {
      "text/plain": [
       "Dataset({\n",
       "    features: ['label', 'text', 'zeroshot'],\n",
       "    num_rows: 100\n",
       "})"
      ]
     },
     "execution_count": 12,
     "metadata": {},
     "output_type": "execute_result"
    }
   ],
   "source": [
    "zero_shot_t5"
   ]
  },
  {
   "cell_type": "code",
   "execution_count": null,
   "id": "bd750d6e-b8d7-4fab-a884-f168bf41e429",
   "metadata": {},
   "outputs": [],
   "source": [
    "zero_shot_t5['zeroshot']"
   ]
  },
  {
   "cell_type": "code",
   "execution_count": null,
   "id": "8a904b0b-2c50-4a8b-8cc0-a33f00fc461c",
   "metadata": {},
   "outputs": [],
   "source": []
  },
  {
   "cell_type": "code",
   "execution_count": null,
   "id": "f4d32599-2c9c-4d02-a4d0-a4f0b4d5c486",
   "metadata": {},
   "outputs": [],
   "source": []
  },
  {
   "cell_type": "code",
   "execution_count": null,
   "id": "818bf730-6a06-4769-92d3-cb881f43cdc1",
   "metadata": {},
   "outputs": [],
   "source": []
  },
  {
   "cell_type": "code",
   "execution_count": null,
   "id": "6d2ce032-64ad-4cd5-bab0-7e79e6521027",
   "metadata": {},
   "outputs": [],
   "source": [
    "l2 = []\n",
    "for _ in tqdm(zero_shot_t5['zeroshot']):\n",
    "    l2.append(_['label'][0])\n",
    "l2"
   ]
  },
  {
   "cell_type": "code",
   "execution_count": null,
   "id": "69bedf61-92ef-4573-a191-f622d354105e",
   "metadata": {},
   "outputs": [],
   "source": [
    "zero_shot_t5_prediction = [candidate_dict[k] for k in l2]\n",
    "zero_shot_t5_prediction"
   ]
  }
 ],
 "metadata": {
  "kernelspec": {
   "display_name": "Python 3",
   "language": "python",
   "name": "python3"
  },
  "language_info": {
   "codemirror_mode": {
    "name": "ipython",
    "version": 3
   },
   "file_extension": ".py",
   "mimetype": "text/x-python",
   "name": "python",
   "nbconvert_exporter": "python",
   "pygments_lexer": "ipython3",
   "version": "3.8.8"
  }
 },
 "nbformat": 4,
 "nbformat_minor": 5
}
